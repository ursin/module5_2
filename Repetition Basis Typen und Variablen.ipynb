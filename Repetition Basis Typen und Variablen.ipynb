{
 "cells": [
  {
   "cell_type": "markdown",
   "metadata": {},
   "source": [
    "# Repetition Basis Typen und Variablen\n",
    "\n",
    "Lies im Buch [Python 3](http://openbook.rheinwerk-verlag.de/python) die Kapitel\n",
    "\n",
    "* 3.1 [Ganze Zahlen](http://openbook.rheinwerk-verlag.de/python/03_001.html#u3.1)\n",
    "* 3.2 [Gleitkommazahlen](http://openbook.rheinwerk-verlag.de/python/03_002.html#u3.2)\n",
    "* 3.3 [Zeichenketten](http://openbook.rheinwerk-verlag.de/python/03_003.html#u3.3)\n",
    "* 3.4 [Listen](http://openbook.rheinwerk-verlag.de/python/03_004.html#u3.4)\n",
    "* 3.5 [Dictionarys](http://openbook.rheinwerk-verlag.de/python/03_005.html#u3.5)\n",
    "* 3.6 [Variablen](http://openbook.rheinwerk-verlag.de/python/03_006.html#u3.6)\n",
    "* 3.9 [Bildschirmausgaben](http://openbook.rheinwerk-verlag.de/python/03_009.html#u3.9)\n",
    "\n",
    "Verwende die folgenden Zellen für die Ausführung der Beispiele und füge bei bedarf weitere Code Zellen hinzu. Alternativ können die Beispiele auch im Python Prompt ausgeführt werden."
   ]
  },
  {
   "cell_type": "markdown",
   "metadata": {},
   "source": [
    "## 3.1 Ganze Zahlen"
   ]
  },
  {
   "cell_type": "code",
   "execution_count": null,
   "metadata": {},
   "outputs": [],
   "source": [
    "-9"
   ]
  },
  {
   "cell_type": "code",
   "execution_count": null,
   "metadata": {},
   "outputs": [],
   "source": []
  },
  {
   "cell_type": "markdown",
   "metadata": {},
   "source": [
    "## 3.2 Gleitkommazahlen"
   ]
  },
  {
   "cell_type": "code",
   "execution_count": null,
   "metadata": {},
   "outputs": [],
   "source": []
  },
  {
   "cell_type": "markdown",
   "metadata": {},
   "source": [
    "## 3.3 Zeichenketten"
   ]
  },
  {
   "cell_type": "code",
   "execution_count": null,
   "metadata": {},
   "outputs": [],
   "source": []
  },
  {
   "cell_type": "markdown",
   "metadata": {},
   "source": [
    "## 3.4 Listen"
   ]
  },
  {
   "cell_type": "code",
   "execution_count": null,
   "metadata": {},
   "outputs": [],
   "source": []
  },
  {
   "cell_type": "markdown",
   "metadata": {},
   "source": [
    "## 3.5 Dictionarys"
   ]
  },
  {
   "cell_type": "code",
   "execution_count": null,
   "metadata": {},
   "outputs": [],
   "source": []
  },
  {
   "cell_type": "markdown",
   "metadata": {},
   "source": [
    "## 3.6 Variablen"
   ]
  },
  {
   "cell_type": "code",
   "execution_count": null,
   "metadata": {},
   "outputs": [],
   "source": []
  },
  {
   "cell_type": "markdown",
   "metadata": {},
   "source": [
    "## 3.9 Bildschirmausgaben"
   ]
  },
  {
   "cell_type": "code",
   "execution_count": null,
   "metadata": {},
   "outputs": [],
   "source": []
  },
  {
   "cell_type": "markdown",
   "metadata": {},
   "source": [
    "# Übungen"
   ]
  },
  {
   "cell_type": "markdown",
   "metadata": {},
   "source": [
    "## Übung 1\n",
    "\n",
    "Erstelle anhand der folgenden Beschreibung Variablen und weise ihnen eigene Werte, aber mit den richtigen Datentypen, zu:\n",
    "\n",
    "| Variable | Datentyp |\n",
    "|:---------|:----------|\n",
    "| **vorname** | String (Zeichenkette) |\n",
    "| **name** | String (Zeichenkette) |\n",
    "| **alter** | Ganze Zahl (Integer) |\n",
    "| **x** | Fliesskommazahl (Float) |\n",
    "| **hobbies** | Liste von Strings, mindestens 2 Hobbies |\n",
    "| **reisen** | Dictionary von Zahlen und Strings.<br>Das Reisejahr als Key und die Ländernamen als Werte |\n",
    "\n",
    "\n",
    "<div class=\"alert alert-warning\" role=\"alert\">\n",
    "<h3>Hinweis</h3>\n",
    "<p>\n",
    "Beachte die Gross- und Kleinschreinung der Variablen Namen: <code>vorname</code> und <code>Vorname</code> sind zwei verschiedene Variablen!\n",
    "    </p>\n",
    "</div>"
   ]
  },
  {
   "cell_type": "code",
   "execution_count": null,
   "metadata": {},
   "outputs": [],
   "source": [
    "# TODO: erstelle die oben beschriebenen Variablen\n",
    "# vorname = ..."
   ]
  },
  {
   "cell_type": "markdown",
   "metadata": {},
   "source": [
    "Führe nach der Definition der Variablen die folgende Code Zelle aus. Mit dieser werden die oben erstellen Variablen überprüft. \n",
    "\n",
    "Schlägt eine Prüfung fehl, korrigiere die Variable anhand der Beschreibung in der Fehlermeldung.\n",
    "Korrigiere alle Fehler, bis die Checks erfolgreich durchlaufen:\n",
    "\n",
    "```\n",
    "test_01_vorname_existiert (__main__.Test01Vorname) ... ok\n",
    "test_02_vorname_sollte_ein_string_sein (__main__.Test01Vorname) ... ok\n",
    "test_03_vorname_darf_kein_leerer_string_sein (__main__.Test01Vorname) ... ok\n",
    "...\n",
    "\n",
    "Ran 21 tests in 0.022s\n",
    "\n",
    "OK\n",
    "```\n",
    "\n",
    "<div class=\"alert alert-danger\" role=\"alert\">\n",
    "<h3>Wichtig</h3>\n",
    "<p>Nach jeder Korrektur müssen <b>beide</b> Code-Zellen nochmals nacheinander ausgeführt werden!</p>\n",
    "</div>"
   ]
  },
  {
   "cell_type": "code",
   "execution_count": null,
   "metadata": {},
   "outputs": [],
   "source": [
    "# Überprüfe die Variablen durch Ausführung dieser Zelle\n",
    "%run -i 'lib/test_helper.py'"
   ]
  },
  {
   "cell_type": "markdown",
   "metadata": {},
   "source": [
    "## Übung 2\n",
    "\n",
    "Verwende die `print()` -Funktion um alle Variablen aus **Übung 1** in der Form \n",
    "\n",
    "```\n",
    "Vorname: John\n",
    "Nachname: Cleese\n",
    "....\n",
    "```\n",
    "auszugeben.\n",
    "\n",
    "Die Ausgabe muss auf mehreren Zeilen sein!"
   ]
  },
  {
   "cell_type": "code",
   "execution_count": null,
   "metadata": {},
   "outputs": [],
   "source": [
    "## TODO"
   ]
  }
 ],
 "metadata": {
  "kernelspec": {
   "display_name": "Python 3",
   "language": "python",
   "name": "python3"
  },
  "language_info": {
   "codemirror_mode": {
    "name": "ipython",
    "version": 3
   },
   "file_extension": ".py",
   "mimetype": "text/x-python",
   "name": "python",
   "nbconvert_exporter": "python",
   "pygments_lexer": "ipython3",
   "version": "3.7.8"
  }
 },
 "nbformat": 4,
 "nbformat_minor": 4
}
